{
 "cells": [
  {
   "cell_type": "code",
   "execution_count": 1,
   "metadata": {},
   "outputs": [],
   "source": [
    "import numpy as np\n",
    "import matplotlib.pyplot as plt\n"
   ]
  },
  {
   "cell_type": "markdown",
   "metadata": {},
   "source": [
    "Main input quantities:\n"
   ]
  },
  {
   "cell_type": "code",
   "execution_count": 57,
   "metadata": {},
   "outputs": [],
   "source": [
    "mp = 0.001                    # projectile mass (kg)\n",
    "db = 0.0055                   # barrel internal diameter (m)\n",
    "Lb = 0.40                     # barrel length (m)\n",
    "\n",
    "pc = 50. * 1e05               # initial pressure over projectile (bar to Pa)\n",
    "vc = 0.5 * 1e-6               # air chamber volume (ml to m^3)\n"
   ]
  },
  {
   "cell_type": "markdown",
   "metadata": {},
   "source": [
    "Derived quantities:\n"
   ]
  },
  {
   "cell_type": "code",
   "execution_count": 58,
   "metadata": {},
   "outputs": [
    {
     "name": "stdout",
     "output_type": "stream",
     "text": [
      "Work from pressure release:   7.5 J\n",
      "Work done over projectile:   24.9 J\n",
      "Project initial velocity:     223 m/s\n"
     ]
    }
   ],
   "source": [
    "Ab = np.pi*(db/2)**2          # barrel cross section (m^2)\n",
    "vb = Lb*Ab + vc               # total barrel volume\n",
    "pb = pc*vc/vb                 # final pressure over projectile (Pa)\n",
    "\n",
    "W0 = pb*vb*np.log(pc/pb)      # work done from adiabatic expansion (J)\n",
    "\n",
    "F0 = pc*Ab                    # initial force over projectile (N)\n",
    "F1 = pb*Ab                    # final force over projectile (N)\n",
    "\n",
    "E0 = Lb*(F0 + F1)/2           # energy delivery to projectile (J)\n",
    "V0 = np.sqrt(2*E0/mp)         # projectile maximum velocity (m/s)\n",
    "\n",
    "print('Work from pressure release: {0:5.1f} J'.format(W0))\n",
    "print('Work done over projectile:  {0:5.1f} J'.format(E0))\n",
    "print('Project initial velocity:   {0:5.0f} m/s'.format(V0))\n"
   ]
  },
  {
   "cell_type": "code",
   "execution_count": 60,
   "metadata": {},
   "outputs": [
    {
     "name": "stdout",
     "output_type": "stream",
     "text": [
      "2.4991708308225706 50.0\n"
     ]
    }
   ],
   "source": [
    "print(pb/1e5, pc/1e5)"
   ]
  },
  {
   "cell_type": "code",
   "execution_count": null,
   "metadata": {},
   "outputs": [],
   "source": []
  }
 ],
 "metadata": {
  "kernelspec": {
   "display_name": "Python 3",
   "language": "python",
   "name": "python3"
  },
  "language_info": {
   "codemirror_mode": {
    "name": "ipython",
    "version": 3
   },
   "file_extension": ".py",
   "mimetype": "text/x-python",
   "name": "python",
   "nbconvert_exporter": "python",
   "pygments_lexer": "ipython3",
   "version": "3.8.3"
  }
 },
 "nbformat": 4,
 "nbformat_minor": 4
}
